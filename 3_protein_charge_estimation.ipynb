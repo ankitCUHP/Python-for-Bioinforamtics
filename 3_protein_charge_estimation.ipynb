{
 "cells": [
  {
   "cell_type": "markdown",
   "id": "fef2710b-5ef1-4a1e-a6d5-99f339ac0280",
   "metadata": {},
   "source": [
    "# Estimate the Net Charge of a Protein"
   ]
  },
  {
   "cell_type": "code",
   "execution_count": 4,
   "id": "f9d2e56c-d3aa-4743-ab78-b098261b9dc7",
   "metadata": {},
   "outputs": [
    {
     "name": "stdin",
     "output_type": "stream",
     "text": [
      "Enter protein seq:  avilkavalhkml\n"
     ]
    },
    {
     "name": "stdout",
     "output_type": "stream",
     "text": [
      "2.091\n"
     ]
    }
   ],
   "source": [
    "aa_seq = input(\"Enter protein seq: \").upper()\n",
    "aa_charge = {'C':-.045,'D':-.999,'E':-.998,'H':.091, 'K':1,'R':1,'Y':-.001}\n",
    "charge = 0\n",
    "\n",
    "for aa in aa_seq:\n",
    "    if aa in aa_charge.keys():\n",
    "        charge += aa_charge.get(aa,0)\n",
    "print(charge)"
   ]
  },
  {
   "cell_type": "code",
   "execution_count": null,
   "id": "a28a0bed-4790-4796-a173-8901152007a0",
   "metadata": {},
   "outputs": [],
   "source": []
  }
 ],
 "metadata": {
  "kernelspec": {
   "display_name": "Python 3 (ipykernel)",
   "language": "python",
   "name": "python3"
  },
  "language_info": {
   "codemirror_mode": {
    "name": "ipython",
    "version": 3
   },
   "file_extension": ".py",
   "mimetype": "text/x-python",
   "name": "python",
   "nbconvert_exporter": "python",
   "pygments_lexer": "ipython3",
   "version": "3.9.13"
  }
 },
 "nbformat": 4,
 "nbformat_minor": 5
}
