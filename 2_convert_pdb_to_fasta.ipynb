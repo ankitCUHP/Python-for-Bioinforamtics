{
 "cells": [
  {
   "cell_type": "code",
   "execution_count": 11,
   "id": "cde7a6c5-ce73-4d37-a24a-f7517df28cc8",
   "metadata": {},
   "outputs": [],
   "source": [
    "pdb_file = open('/home/ankit/Downloads/1aki.pdb','r').readlines()\n",
    "\n",
    "amino_acid_codes = {\n",
    "    \"ALA\": \"A\",\n",
    "    \"ARG\": \"R\",\n",
    "    \"ASN\": \"N\",\n",
    "    \"ASP\": \"D\",\n",
    "    \"CYS\": \"C\",\n",
    "    \"GLU\": \"E\",\n",
    "    \"GLN\": \"Q\",\n",
    "    \"GLY\": \"G\",\n",
    "    \"HIS\": \"H\",\n",
    "    \"ILE\": \"I\",\n",
    "    \"LEU\": \"L\",\n",
    "    \"LYS\": \"K\",\n",
    "    \"MET\": \"M\",\n",
    "    \"PHE\": \"F\",\n",
    "    \"PRO\": \"P\",\n",
    "    \"SER\": \"S\",\n",
    "    \"THR\": \"T\",\n",
    "    \"TRP\": \"W\",\n",
    "    \"TYR\": \"Y\",\n",
    "    \"VAL\": \"V\"\n",
    "}\n",
    "\n",
    "fasta_Seq = ''\n",
    "\n",
    "for i in range(0,len(pdb_file)):\n",
    "    if pdb_file[i][0:4] == 'ATOM':\n",
    "        #print(pdb_file[i].rstrip())\n",
    "        if pdb_file[i][13:15] == 'N ':\n",
    "            # print(pdb_file[i].rstrip())\n",
    "            fasta_Seq = fasta_Seq + amino_acid_codes[pdb_file[i][17:20]]\n",
    "# print(fasta_Seq)\n",
    "with open('/home/ankit/1aki.fasta','w') as file:\n",
    "    file.write(f'>1aki | 2sep |\\n{fasta_Seq}')"
   ]
  },
  {
   "cell_type": "code",
   "execution_count": null,
   "id": "6ed772dc-a21f-4a6a-a3d5-f466e622c26a",
   "metadata": {},
   "outputs": [],
   "source": []
  }
 ],
 "metadata": {
  "kernelspec": {
   "display_name": "Python 3 (ipykernel)",
   "language": "python",
   "name": "python3"
  },
  "language_info": {
   "codemirror_mode": {
    "name": "ipython",
    "version": 3
   },
   "file_extension": ".py",
   "mimetype": "text/x-python",
   "name": "python",
   "nbconvert_exporter": "python",
   "pygments_lexer": "ipython3",
   "version": "3.9.13"
  }
 },
 "nbformat": 4,
 "nbformat_minor": 5
}
