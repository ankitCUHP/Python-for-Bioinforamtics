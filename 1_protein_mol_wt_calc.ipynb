{
 "cells": [
  {
   "cell_type": "code",
   "execution_count": 6,
   "id": "1b8481ea",
   "metadata": {},
   "outputs": [
    {
     "name": "stdout",
     "output_type": "stream",
     "text": [
      "Molecular wt of given protein is:  13338\n"
     ]
    }
   ],
   "source": [
    "file = open('/home/ankit/Downloads/1aki.pdb','r')\n",
    "\n",
    "mol_wt = 0\n",
    "for line in file.readlines():\n",
    "#     print(line.rstrip())\n",
    "    if line[0:4] == \"ATOM\":\n",
    "#         print(line.rstrip())\n",
    "        if line[13:14] == \"N\":\n",
    "            mol_wt = mol_wt + 14\n",
    "        elif line[13:14] == \"C\":\n",
    "            mol_wt = mol_wt + 12\n",
    "        elif line[13:14] == \"H\":\n",
    "            mol_wt = mol_wt + 1\n",
    "        elif line[13:14] == \"O\":\n",
    "            mol_wt = mol_wt + 16\n",
    "        elif line[13:14] == \"S\":\n",
    "            mol_wt = mol_wt + 32\n",
    "\n",
    "print(\"Molecular wt of given protein is: \",mol_wt)\n",
    "            \n",
    "            "
   ]
  },
  {
   "cell_type": "code",
   "execution_count": null,
   "id": "c036c38d",
   "metadata": {},
   "outputs": [],
   "source": []
  }
 ],
 "metadata": {
  "kernelspec": {
   "display_name": "Python 3 (ipykernel)",
   "language": "python",
   "name": "python3"
  },
  "language_info": {
   "codemirror_mode": {
    "name": "ipython",
    "version": 3
   },
   "file_extension": ".py",
   "mimetype": "text/x-python",
   "name": "python",
   "nbconvert_exporter": "python",
   "pygments_lexer": "ipython3",
   "version": "3.9.13"
  }
 },
 "nbformat": 4,
 "nbformat_minor": 5
}
